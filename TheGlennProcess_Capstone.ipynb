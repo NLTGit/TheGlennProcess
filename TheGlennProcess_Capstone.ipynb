{
 "cells": [
  {
   "cell_type": "markdown",
   "metadata": {},
   "source": [
    "# Hurricane Harvey Data Sources\n",
    "\n",
    "## Geospatial Information and Remotely Sensed Imagery Products\n",
    "\n",
    "### Compiled by:  Mr. Glenn Bethel – USDA Remote Sensing Advisor\n"
   ]
  },
  {
   "cell_type": "code",
   "execution_count": 27,
   "metadata": {},
   "outputs": [
    {
     "name": "stdout",
     "output_type": "stream",
     "text": [
      "This document was last updated on: 2018-05-11\n"
     ]
    }
   ],
   "source": [
    "import datetime\n",
    "print('This document was last updated on: %s' % datetime.date.today())"
   ]
  },
  {
   "cell_type": "code",
   "execution_count": 28,
   "metadata": {},
   "outputs": [
    {
     "data": {
      "text/html": [
       "<script>\n",
       "code_show=true; \n",
       "function code_toggle() {\n",
       " if (code_show){\n",
       " $('div.input').hide();\n",
       " } else {\n",
       " $('div.input').show();\n",
       " }\n",
       " code_show = !code_show\n",
       "} \n",
       "$( document ).ready(code_toggle);\n",
       "</script>\n",
       "<form action=\"javascript:code_toggle()\"><input type=\"submit\" value=\"Click here to hide the raw code.\"></form>"
      ],
      "text/plain": [
       "<IPython.core.display.HTML object>"
      ]
     },
     "execution_count": 28,
     "metadata": {},
     "output_type": "execute_result"
    }
   ],
   "source": [
    "from IPython.display import HTML\n",
    "\n",
    "HTML('''<script>\n",
    "code_show=true; \n",
    "function code_toggle() {\n",
    " if (code_show){\n",
    " $('div.input').hide();\n",
    " } else {\n",
    " $('div.input').show();\n",
    " }\n",
    " code_show = !code_show\n",
    "} \n",
    "$( document ).ready(code_toggle);\n",
    "</script>\n",
    "<form action=\"javascript:code_toggle()\"><input type=\"submit\" value=\"Click here to hide the raw code.\"></form>''')"
   ]
  },
  {
   "cell_type": "markdown",
   "metadata": {},
   "source": [
    "### Hurricane Harvey is currently causing significant rainfall, flooding, and overall damage to the eastern coast of Texas. To keep track of the path of the storm and the associated precipitation, wind and wave patterns, please utilize the following link to [Windy’s website.]( https://www.windy.com/?38.823,-77.366,5)"
   ]
  },
  {
   "cell_type": "markdown",
   "metadata": {},
   "source": [
    "Hurricane Harvey: \n",
    "![alt text]( https://bloximages.newyork1.vip.townnews.com/richmond.com/content/tncms/assets/v3/editorial/7/61/76186c5c-5921-5c89-ac44-23d44ebf81a0/59ab548cb1baa.image.png?resize=1200%2C673 \"Hurricane Harvey”\n",
    ")"
   ]
  },
  {
   "cell_type": "markdown",
   "metadata": {},
   "source": [
    "# Hurricane Harvey Data Collection\n",
    "## Data Collection Web App\n",
    "### Please use the following [web application]( http://dewberry.maps.arcgis.com/apps/webappviewer/index.html?id=5c8e98ec62314fdf8eb071defbd0a27f) to enter where you are currently collecting or plan to collect data in response to this event.\n",
    "*Please keep in mind that the data will need to be reviewed before it is made visible to the rest of the users of the Data Collection web map. \n",
    "\n",
    "## Data Request Web App\n",
    "### Please use the following [web application]( http://dewberry.maps.arcgis.com/apps/webappviewer/index.html?id=a80de590469d4799bd6fa853ab5f9c60) to enter where you would like to request data be collected in response to this event.\n",
    "*Please keep in mind that the data will need to be reviewed before it is made visible to the rest of the users of the Data Requests web map. \n",
    "\n",
    "## All Data Web App \n",
    "### Please use the following [web application]( http://dewberry.maps.arcgis.com/apps/webappviewer/index.html?id=d5a22b49bc91413ba5e8879d81ed4f08) to view, query and filter all data being collected or data requests for collection in response to this event. \n",
    "*Please keep in mind that the data will need to be reviewed before it is made visible to the rest of the users of the All Data web map. \n"
   ]
  },
  {
   "cell_type": "markdown",
   "metadata": {},
   "source": [
    "### All of these web applications have a few widgets that can be used: \n",
    "![alt text][logo]\n",
    "[logo]: http://www.terpconnect.umd.edu/~spandey5/widget.JPG \"Widgets\"\n",
    "\n",
    "### The legend widget allows you to see the currently symbology for each layer: \n",
    "![alt text][logo]\n",
    "[logo]: http://www.terpconnect.umd.edu/~spandey5/legend.JPG \"Legend\"\n",
    "\n",
    "### The layer widget displays which layers are currently being displayed and allows you to toggle them on/off as needed: \n",
    "![alt text][logo]\n",
    "[logo]: http://www.terpconnect.umd.edu/~spandey5/layers.JPG \"Layer\"\n",
    "\n",
    "### The basemap gallery allows you to select which basemap you wish to use: \n",
    "![alt text][logo]\n",
    "[logo]: http://www.terpconnect.umd.edu/~spandey5/Basemap.JPG \"Basemap\"\n",
    "\n",
    "### The time slider widget allows you to determine the when data is being collected or requested on a day by day basis: \n",
    "![alt text][logo]\n",
    "[logo]: http://www.terpconnect.umd.edu/~spandey5/Timeslider.JPG \"Time Slider\"\n",
    "\n",
    "### The query widget allows you enable a query on the datasets and obtain a temporary layer of features that meet the query requirements: \n",
    "![alt text][logo]\n",
    "[logo]: http://www.terpconnect.umd.edu/~spandey5/Query.JPG \"Query\"\n",
    "\n",
    "### The filter widget allows you to filter datasets out of view based upon a specified filter query: \n",
    "![alt text][logo]\n",
    "[logo]: http://www.terpconnect.umd.edu/~spandey5/Filter.JPG \"Filter\"\n"
   ]
  },
  {
   "cell_type": "code",
   "execution_count": 29,
   "metadata": {},
   "outputs": [],
   "source": [
    "from arcgis.gis import GIS\n",
    "from IPython.display import display\n",
    "from getpass import getpass\n",
    "\n",
    "#source_username = getpass(\"Enter arcgis online username here: \")\n",
    "#source_password = getpass(\"Enter arcgis online password here: \")\n",
    "source = GIS(\"https://dewberry.maps.arcgis.com/home/signin.html\", source_username, source_password)"
   ]
  },
  {
   "cell_type": "markdown",
   "metadata": {},
   "source": [
    "### If you are not a Jupyter Notebook user, the Data Collection web map below may not display for you. In which case, please use the following links to open the [Data Collection]( http://dewberry.maps.arcgis.com/home/webmap/viewer.html?webmap=c2d9ed4e7756445f8e9b402a218649c8) web map. *Please note that this map will only display features that have been reviewed by the administrator. "
   ]
  },
  {
   "cell_type": "code",
   "execution_count": 30,
   "metadata": {
    "scrolled": true
   },
   "outputs": [
    {
     "data": {
      "application/vnd.jupyter.widget-view+json": {
       "model_id": "09e23d56cdaa4316a95c58d1f0cee54c",
       "version_major": 2,
       "version_minor": 0
      },
      "text/html": [
       "<p>Failed to display Jupyter Widget of type <code>MapView</code>.</p>\n",
       "<p>\n",
       "  If you're reading this message in the Jupyter Notebook or JupyterLab Notebook, it may mean\n",
       "  that the widgets JavaScript is still loading. If this message persists, it\n",
       "  likely means that the widgets JavaScript library is either not installed or\n",
       "  not enabled. See the <a href=\"https://ipywidgets.readthedocs.io/en/stable/user_install.html\">Jupyter\n",
       "  Widgets Documentation</a> for setup instructions.\n",
       "</p>\n",
       "<p>\n",
       "  If you're reading this message in another frontend (for example, a static\n",
       "  rendering on GitHub or <a href=\"https://nbviewer.jupyter.org/\">NBViewer</a>),\n",
       "  it may mean that your frontend doesn't currently support widgets.\n",
       "</p>\n"
      ],
      "text/plain": [
       "MapView(basemaps=['dark-gray', 'dark-gray-vector', 'gray', 'gray-vector', 'hybrid', 'national-geographic', 'oceans', 'osm', 'satellite', 'streets', 'streets-navigation-vector', 'streets-night-vector', 'streets-relief-vector', 'streets-vector', 'terrain', 'topo', 'topo-vector'], center=[0, 0], id='c2d9ed4e7756445f8e9b402a218649c8')"
      ]
     },
     "metadata": {},
     "output_type": "display_data"
    }
   ],
   "source": [
    "webmap_search = source.content.search(query = \"Data_Collection\", item_type = \"Web Map\")\n",
    "webmap_search\n",
    "\n",
    "webmap1 = webmap_search[0]\n",
    "webmap1\n",
    "\n",
    "from arcgis.mapping import WebMap\n",
    "Data_Collection = WebMap(webmap1)\n",
    "Data_Collection"
   ]
  },
  {
   "cell_type": "markdown",
   "metadata": {},
   "source": [
    "### If you are not a Jupyter Notebook user, the Data Requests web map below may not display for you. In which case, please use the following links to open the [Data Requests]( http://dewberry.maps.arcgis.com/home/webmap/viewer.html?webmap=b91abbbfb28c4f5aaaf5f91bdd2e8bed) web map. *Please note that this map will only display features that have been reviewed by the administrator."
   ]
  },
  {
   "cell_type": "code",
   "execution_count": 31,
   "metadata": {},
   "outputs": [
    {
     "data": {
      "application/vnd.jupyter.widget-view+json": {
       "model_id": "31899c1c02fd4782866ddf53c0ce9a78",
       "version_major": 2,
       "version_minor": 0
      },
      "text/html": [
       "<p>Failed to display Jupyter Widget of type <code>MapView</code>.</p>\n",
       "<p>\n",
       "  If you're reading this message in the Jupyter Notebook or JupyterLab Notebook, it may mean\n",
       "  that the widgets JavaScript is still loading. If this message persists, it\n",
       "  likely means that the widgets JavaScript library is either not installed or\n",
       "  not enabled. See the <a href=\"https://ipywidgets.readthedocs.io/en/stable/user_install.html\">Jupyter\n",
       "  Widgets Documentation</a> for setup instructions.\n",
       "</p>\n",
       "<p>\n",
       "  If you're reading this message in another frontend (for example, a static\n",
       "  rendering on GitHub or <a href=\"https://nbviewer.jupyter.org/\">NBViewer</a>),\n",
       "  it may mean that your frontend doesn't currently support widgets.\n",
       "</p>\n"
      ],
      "text/plain": [
       "MapView(basemaps=['dark-gray', 'dark-gray-vector', 'gray', 'gray-vector', 'hybrid', 'national-geographic', 'oceans', 'osm', 'satellite', 'streets', 'streets-navigation-vector', 'streets-night-vector', 'streets-relief-vector', 'streets-vector', 'terrain', 'topo', 'topo-vector'], center=[0, 0], id='b91abbbfb28c4f5aaaf5f91bdd2e8bed')"
      ]
     },
     "metadata": {},
     "output_type": "display_data"
    }
   ],
   "source": [
    "webmap_search = source.content.search(query = \"Data_Requests\", item_type = \"Web Map\")\n",
    "webmap_search\n",
    "\n",
    "webmap2 = webmap_search[0]\n",
    "webmap2\n",
    "\n",
    "from arcgis.mapping import WebMap\n",
    "Data_Collection = WebMap(webmap2)\n",
    "Data_Collection"
   ]
  },
  {
   "cell_type": "markdown",
   "metadata": {},
   "source": [
    "### If you are not a Jupyter Notebook user, the All Data web map below may not display for you. In which case, please use the following links to open the [“All Data”]( http://dewberry.maps.arcgis.com/home/webmap/viewer.html?webmap=7618f7a376754188891bca4b0229be41) web map. *Please note that this map will only display features that have been reviewed by the administrator."
   ]
  },
  {
   "cell_type": "code",
   "execution_count": 32,
   "metadata": {},
   "outputs": [
    {
     "data": {
      "application/vnd.jupyter.widget-view+json": {
       "model_id": "4a40e4a2c44c40439c3097625ac7b92e",
       "version_major": 2,
       "version_minor": 0
      },
      "text/html": [
       "<p>Failed to display Jupyter Widget of type <code>MapView</code>.</p>\n",
       "<p>\n",
       "  If you're reading this message in the Jupyter Notebook or JupyterLab Notebook, it may mean\n",
       "  that the widgets JavaScript is still loading. If this message persists, it\n",
       "  likely means that the widgets JavaScript library is either not installed or\n",
       "  not enabled. See the <a href=\"https://ipywidgets.readthedocs.io/en/stable/user_install.html\">Jupyter\n",
       "  Widgets Documentation</a> for setup instructions.\n",
       "</p>\n",
       "<p>\n",
       "  If you're reading this message in another frontend (for example, a static\n",
       "  rendering on GitHub or <a href=\"https://nbviewer.jupyter.org/\">NBViewer</a>),\n",
       "  it may mean that your frontend doesn't currently support widgets.\n",
       "</p>\n"
      ],
      "text/plain": [
       "MapView(basemaps=['dark-gray', 'dark-gray-vector', 'gray', 'gray-vector', 'hybrid', 'national-geographic', 'oceans', 'osm', 'satellite', 'streets', 'streets-navigation-vector', 'streets-night-vector', 'streets-relief-vector', 'streets-vector', 'terrain', 'topo', 'topo-vector'], center=[0, 0], id='7618f7a376754188891bca4b0229be41')"
      ]
     },
     "metadata": {},
     "output_type": "display_data"
    }
   ],
   "source": [
    "webmap_search = source.content.search(query = \"All_Data\", item_type = \"Web Map\")\n",
    "webmap_search\n",
    "\n",
    "webmap3 = webmap_search[0]\n",
    "webmap3\n",
    "\n",
    "from arcgis.mapping import WebMap\n",
    "Data_Collection = WebMap(webmap3)\n",
    "Data_Collection"
   ]
  },
  {
   "cell_type": "code",
   "execution_count": null,
   "metadata": {},
   "outputs": [],
   "source": []
  },
  {
   "cell_type": "markdown",
   "metadata": {},
   "source": [
    "### Send comments, additions, corrections, and questions to: Mr. Glenn Bethel, USDA Remote Sensing Advisor\n",
    "\n",
    " [glenn.bethel@usda.gov]( glenn.bethel@usda.gov)\n",
    "### (202)-720-1280"
   ]
  }
 ],
 "metadata": {
  "kernelspec": {
   "display_name": "Python 3",
   "language": "python",
   "name": "python3"
  },
  "language_info": {
   "codemirror_mode": {
    "name": "ipython",
    "version": 3
   },
   "file_extension": ".py",
   "mimetype": "text/x-python",
   "name": "python",
   "nbconvert_exporter": "python",
   "pygments_lexer": "ipython3",
   "version": "3.6.4"
  }
 },
 "nbformat": 4,
 "nbformat_minor": 2
}
