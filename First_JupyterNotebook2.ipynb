{
 "cells": [
  {
   "cell_type": "code",
   "execution_count": 10,
   "metadata": {
    "extensions": {
     "jupyter_dashboards": {
      "version": 1,
      "views": {
       "grid_default": {
        "hidden": true
       },
       "report_default": {}
      }
     }
    }
   },
   "outputs": [],
   "source": [
    "from arcgis.gis import GIS\n",
    "from IPython.display import display\n",
    "from getpass import getpass"
   ]
  },
  {
   "cell_type": "code",
   "execution_count": 11,
   "metadata": {
    "extensions": {
     "jupyter_dashboards": {
      "version": 1,
      "views": {
       "grid_default": {
        "col": 0,
        "height": 4,
        "hidden": false,
        "row": 0,
        "width": 4
       },
       "report_default": {}
      }
     }
    }
   },
   "outputs": [
    {
     "name": "stdout",
     "output_type": "stream",
     "text": [
      "Enter arcgis online username here: ········\n",
      "Enter arcgis online password here: ········\n"
     ]
    }
   ],
   "source": [
    "source_username = getpass(\"Enter arcgis online username here: \")\n",
    "source_password = getpass(\"Enter arcgis online password here: \")\n",
    "source = GIS(\"https://dewberry.maps.arcgis.com/home/signin.html\", source_username, source_password)"
   ]
  },
  {
   "cell_type": "code",
   "execution_count": 12,
   "metadata": {
    "extensions": {
     "jupyter_dashboards": {
      "version": 1,
      "views": {
       "grid_default": {
        "col": 4,
        "height": 58,
        "hidden": true,
        "row": 0,
        "width": 4
       },
       "report_default": {}
      }
     }
    }
   },
   "outputs": [
    {
     "name": "stdout",
     "output_type": "stream",
     "text": [
      "abaker_Dewberry\t:\torg_user\n",
      "abigalbal_Dewberry\t:\torg_publisher\n",
      "ahadjimiry_Dewberry\t:\torg_user\n",
      "alnelson_Dewberry\t:\torg_publisher\n",
      "Amanda.Stevens_Dewberry\t:\torg_user\n",
      "amercado_Dewberry\t:\torg_user\n",
      "amook_Dewberry\t:\torg_user\n",
      "amoss_Dewberry\t:\torg_publisher\n",
      "amurdoch_Dewberry\t:\torg_admin\n",
      "anayegandhi_Dewberry\t:\torg_user\n",
      "anemati_Dewberry\t:\torg_publisher\n",
      "aoehser_Dewberry\t:\torg_publisher\n",
      "apfeifer_Dewberry\t:\torg_user\n",
      "askim_Dewberry\t:\torg_user\n",
      "avillegas_Dewberry\t:\torg_user\n",
      "bbatten_Dewberry\t:\torg_publisher\n",
      "bbill_Dewberry\t:\torg_user\n",
      "Bcapra_Dewberry\t:\torg_publisher\n",
      "bcreinin_Dewberry\t:\torg_publisher\n",
      "bgoodwin_Dewberry\t:\torg_publisher\n",
      "braffel_Dewberry\t:\torg_publisher\n",
      "cbarnette_Dewberry\t:\torg_user\n",
      "cbere_Dewberry\t:\torg_user\n",
      "cbohn_Dewberry0\t:\torg_user\n",
      "ceddlemon_Dewberry\t:\torg_user\n",
      "cgoulette_Dewberry\t:\torg_user\n",
      "cgriesbach_Dewberry\t:\torg_user\n",
      "cjacob_Dewberry\t:\torg_user\n",
      "clarwill_Dewberry\t:\torg_user\n",
      "clong_Dewberry\t:\torg_publisher\n",
      "cmaderia_Dewberry\t:\torg_user\n",
      "cmagee_Dewberry\t:\torg_user\n",
      "cmarshfrydenlund_Dewberry\t:\torg_user\n",
      "cmoore_Dewberry\t:\torg_user\n",
      "cmyers_Dewberry\t:\torg_user\n",
      "cndavenport_Dewberry\t:\torg_publisher\n",
      "cpierson_Dewberry\t:\torg_user\n",
      "crutten_Dewberry\t:\torg_user\n",
      "csparks_Dewberry6\t:\torg_user\n",
      "ctsoi_Dewberry\t:\torg_user\n",
      "cwalker_Dewberry\t:\torg_user\n",
      "czambito_Dewberry\t:\torg_user\n",
      "dbpalumbo\t:\torg_user\n",
      "dbubser_Dewberry\t:\torg_user\n",
      "dcalametti_Dewberry\t:\torg_user\n",
      "dewb_pdean\t:\torg_publisher\n",
      "dewberry_paintcare_test\t:\torg_user\n",
      "dhs_user\t:\torg_user\n",
      "DimensionalView_User\t:\torg_user\n",
      "dmcglone_Dewberry\t:\torg_user\n",
      "dmeeusen_Dewberry\t:\torg_user\n",
      "dsmirnov_Dewberry\t:\torg_user\n",
      "dsullivan_Dewberry\t:\torg_publisher\n",
      "dvillhauer_Dewberry\t:\torg_user\n",
      "eburgess_Dewberry\t:\torg_user\n",
      "ecassidy_Dewberry\t:\torg_publisher\n",
      "ehoatson_Dewberry\t:\torg_user\n",
      "eknoderer_Dewberry\t:\torg_user\n",
      "elewis_Dewberry\t:\torg_user\n",
      "emeadows_Dewberry\t:\torg_user\n",
      "epadilla_Dewberry\t:\torg_user\n",
      "epettis_Dewberry\t:\torg_user\n",
      "epilnick@gayrondebruin.com\t:\torg_user\n",
      "eschryer_Dewberry\t:\torg_user\n",
      "esklipp_Dewberry\t:\torg_user\n",
      "gacampora_Dewberry\t:\torg_user\n",
      "GGardner_Dewberry\t:\torg_publisher\n",
      "gjordan_Dewberry\t:\torg_admin\n",
      "GTS_Lidar\t:\torg_admin\n",
      "gtslidaranalyst_Dewberry\t:\torg_user\n",
      "hcho_Dewberry\t:\torg_user\n",
      "hking_Dewberry\t:\torg_user\n",
      "ibyers_Dewberry\t:\torg_user\n",
      "itodd_Dewberry\t:\torg_user\n",
      "JBrowning_Dewberry\t:\torg_user\n",
      "JCheok_Dewberry\t:\torg_user\n",
      "jcplummer_Dewberry\t:\torg_publisher\n",
      "jdorvinen_Dewberry\t:\torg_publisher\n",
      "jfilson_Dewberry\t:\torg_publisher\n",
      "jfrantz_Dewberry\t:\torg_user\n",
      "JGangai_Dewberry\t:\torg_publisher\n",
      "jhardy_Dewberry\t:\torg_user\n",
      "jhoffman_Dewberry\t:\torg_user\n",
      "jhunt_Dewberry\t:\torg_user\n",
      "jkilnoski_Dewberry\t:\torg_user\n",
      "jlawrence_Dewberry\t:\torg_user\n",
      "jlee_Dewberry\t:\torg_publisher\n",
      "JLicsko_Dewberry\t:\torg_user\n",
      "jmattli_Dewberry\t:\torg_publisher\n",
      "jmawby_Dewberry\t:\torg_publisher\n",
      "jnovac_Dewberry\t:\torg_publisher\n",
      "jrector_Dewberry\t:\torg_user\n",
      "jrobinson_Dewberry\t:\torg_user\n",
      "jruben_Dewberry\t:\torg_publisher\n",
      "jseipp_Dewberry\t:\torg_publisher\n",
      "jtanski_Dewberry\t:\torg_user\n",
      "jthiel_Dewberry\t:\torg_publisher\n",
      "jwagoner_Dewberry\t:\torg_user\n",
      "jwiley_Dewberry\t:\torg_user\n",
      "jzosh_Dewberry\t:\torg_user\n"
     ]
    }
   ],
   "source": [
    "#!esri_ & !admin\n",
    "source_users = source.users.search('!esri_ & !admin')\n",
    "for user in source_users:\n",
    "    print(user.username + \"\\t:\\t\" + str(user.role))"
   ]
  },
  {
   "cell_type": "code",
   "execution_count": 13,
   "metadata": {
    "extensions": {
     "jupyter_dashboards": {
      "version": 1,
      "views": {
       "grid_default": {
        "col": 8,
        "height": 92,
        "hidden": true,
        "row": 0,
        "width": 4
       },
       "report_default": {}
      }
     }
    }
   },
   "outputs": [
    {
     "data": {
      "text/plain": [
       "[<Group title:\"AK_Portal_Admin\" owner:tcopenhaver_Dewberry>,\n",
       " <Group title:\"AK_Portal_Public\" owner:tcopenhaver_Dewberry>,\n",
       " <Group title:\"AK_Portal_User\" owner:tcopenhaver_Dewberry>,\n",
       " <Group title:\"Ashley Business Park\" owner:GGardner_Dewberry>,\n",
       " <Group title:\"Berkeley Water Main Alignment Collection (Survey123)\" owner:tmoran_Dewberry>,\n",
       " <Group title:\"Beverly\" owner:spandey_Dewberry>,\n",
       " <Group title:\"Bing Maps\" owner:tcopenhaver_Dewberry>,\n",
       " <Group title:\"CIP Planning and Tracking\" owner:tmoran_Dewberry>,\n",
       " <Group title:\"Coastal\" owner:tcopenhaver_Dewberry>,\n",
       " <Group title:\"Colsman Tunnel\" owner:tcopenhaver_Dewberry>,\n",
       " <Group title:\"Comprehensive Sea level Rise and Recurrent Flooding Response Plan Story Map\" owner:amoss_Dewberry>,\n",
       " <Group title:\"CSLRRF_Response_Plan\" owner:spandey_Dewberry>,\n",
       " <Group title:\"Dewberry Boston GIS\" owner:tcopenhaver_Dewberry>,\n",
       " <Group title:\"Dewberry Marketing\" owner:spandey_Dewberry>,\n",
       " <Group title:\"Dewberry_Tallahassee\" owner:keaston_Dewberry>,\n",
       " <Group title:\"DHS\" owner:amurdoch_Dewberry>,\n",
       " <Group title:\"East Donegal Township Municipal Authority\" owner:spandey_Dewberry>,\n",
       " <Group title:\"EH_pilot\" owner:jcplummer_Dewberry>,\n",
       " <Group title:\"Energy, Oil and Gas\" owner:tcopenhaver_Dewberry>,\n",
       " <Group title:\"ESRI Fed UC\" owner:spandey_Dewberry>,\n",
       " <Group title:\"Fairfax Sewer Condition Project\" owner:tcopenhaver_Dewberry>,\n",
       " <Group title:\"Falls Church\" owner:tcopenhaver_Dewberry>,\n",
       " <Group title:\"FEMA Spokane Story Map\" owner:kobrien_Dewberry>,\n",
       " <Group title:\"FEMA_SDE\" owner:amurdoch_Dewberry>,\n",
       " <Group title:\"Fulton County, GA\" owner:spandey_Dewberry>,\n",
       " <Group title:\"GIS Services\" owner:tcopenhaver_Dewberry>,\n",
       " <Group title:\"GMU Watershed Modelers\" owner:slawler_Dewberry>,\n",
       " <Group title:\"GovLoop Presentation\" owner:spandey_Dewberry>,\n",
       " <Group title:\"GTS Lidar Admin Users\" owner:GTS_Lidar>,\n",
       " <Group title:\"gts lidar test\" owner:GTS_Lidar>,\n",
       " <Group title:\"GTS-LiDAR Production Tools\" owner:amurdoch_Dewberry>,\n",
       " <Group title:\"GTS-LiDAR Production Tools - Admin\" owner:amurdoch_Dewberry>,\n",
       " <Group title:\"GTS_Lidar_50080899_NEIL_SEWI\" owner:GTS_Lidar>,\n",
       " <Group title:\"GTS_Lidar_50080904_BrazosBasin\" owner:GTS_Lidar>,\n",
       " <Group title:\"GTS_Lidar_50080904_BrazosBasin-old\" owner:GTS_Lidar>,\n",
       " <Group title:\"GTS_Lidar_Projects\" owner:GTS_Lidar>,\n",
       " <Group title:\"Gulf Coast BDT\" owner:czambito_Dewberry>,\n",
       " <Group title:\"Harvey Building Damage Assessments\" owner:tcopenhaver_Dewberry>,\n",
       " <Group title:\"Hurricane Irma Desktop Imagery Review\" owner:spandey_Dewberry>,\n",
       " <Group title:\"Irma\" owner:tmoran_Dewberry>,\n",
       " <Group title:\"LARIAC\" owner:tcopenhaver_Dewberry>,\n",
       " <Group title:\"Map Gallery\" owner:tcopenhaver_Dewberry>,\n",
       " <Group title:\"MARTA\" owner:tcopenhaver_Dewberry>,\n",
       " <Group title:\"MARTA Asset Inventory\" owner:tcopenhaver_Dewberry>,\n",
       " <Group title:\"Maryland Site Civil Group\" owner:avillegas_Dewberry>,\n",
       " <Group title:\"MD CATS+\" owner:spandey_Dewberry>,\n",
       " <Group title:\"My BAO Group\" owner:pmenichelli_Dewberry>,\n",
       " <Group title:\"NIH DEP\" owner:tcopenhaver_Dewberry>,\n",
       " <Group title:\"NYC Housing Affordability Study\" owner:tmoran_Dewberry>,\n",
       " <Group title:\"NYSDEC CEHA\" owner:bbatten_Dewberry>,\n",
       " <Group title:\"NYSERDA East Hampton Pilot\" owner:bbatten_Dewberry>,\n",
       " <Group title:\"NYSERDA Structure Inventory Field\" owner:jcplummer_Dewberry>,\n",
       " <Group title:\"PaintCare\" owner:amurdoch_Dewberry>,\n",
       " <Group title:\"PaintCare\" owner:tmoran_Dewberry>,\n",
       " <Group title:\"PennDOT\" owner:spandey_Dewberry>,\n",
       " <Group title:\"Port Newark South\" owner:spandey_Dewberry>,\n",
       " <Group title:\"PR_SDE_QC\" owner:spandey_Dewberry>,\n",
       " <Group title:\"Puerto Rico LiDAR Viewer\" owner:tcopenhaver_Dewberry>,\n",
       " <Group title:\"Raleigh Mobile Testing with Survey123\" owner:tmoran_Dewberry>,\n",
       " <Group title:\"RealTimeTesting\" owner:skoka_Dewberry>,\n",
       " <Group title:\"Region 2 ArcGIS Online\" owner:tcopenhaver_Dewberry>,\n",
       " <Group title:\"SEPA Field Visit\" owner:tmoran_Dewberry>,\n",
       " <Group title:\"Small Hydro Business Development Analysis\" owner:tmoran_Dewberry>,\n",
       " <Group title:\"Southeast Louisiana Hurricane Evacuation Study\" owner:czambito_Dewberry>,\n",
       " <Group title:\"Stormwater Asset Collection\" owner:tmoran_Dewberry>,\n",
       " <Group title:\"Superior Pipeline Company\" owner:tcopenhaver_Dewberry>,\n",
       " <Group title:\"Survey_Group_Dewberry\" owner:tcopenhaver_Dewberry>,\n",
       " <Group title:\"TAPP_Portal_Admin\" owner:tcopenhaver_Dewberry>,\n",
       " <Group title:\"TAPP_Portal_Public\" owner:tcopenhaver_Dewberry>,\n",
       " <Group title:\"TAPP_Portal_User\" owner:tcopenhaver_Dewberry>,\n",
       " <Group title:\"Task Order 13-07\" owner:tmoran_Dewberry>,\n",
       " <Group title:\"Telecom\" owner:tcopenhaver_Dewberry>,\n",
       " <Group title:\"Test\" owner:stuchrello_Dewberry>,\n",
       " <Group title:\"Test_Group\" owner:GTS_Lidar>,\n",
       " <Group title:\"Topo Base Maps\" owner:svogt_Dewberry>,\n",
       " <Group title:\"Transportation\" owner:tcopenhaver_Dewberry>,\n",
       " <Group title:\"TUgis\" owner:spandey_Dewberry>,\n",
       " <Group title:\"USACE Presentation\" owner:spandey_Dewberry>,\n",
       " <Group title:\"USVI Hazard Mitigation\" owner:sreed_Dewberry>,\n",
       " <Group title:\"Virginia Beach Sea Level Rise Recurrent Flooding Study\" owner:bbatten_Dewberry>,\n",
       " <Group title:\"Virginia Gateway\" owner:GGardner_Dewberry>,\n",
       " <Group title:\"Westchester NY - 2014 Coastal Flooding\" owner:tcopenhaver_Dewberry>]"
      ]
     },
     "execution_count": 13,
     "metadata": {},
     "output_type": "execute_result"
    }
   ],
   "source": [
    "\n",
    "# filter out system created groups\n",
    "source_groups = source.groups.search(\"!owner:esri_* & !Basemaps\")\n",
    "source_groups"
   ]
  },
  {
   "cell_type": "code",
   "execution_count": 14,
   "metadata": {
    "extensions": {
     "jupyter_dashboards": {
      "version": 1,
      "views": {
       "grid_default": {
        "col": 0,
        "height": 4,
        "hidden": false,
        "row": 4,
        "width": 4
       },
       "report_default": {}
      }
     }
    }
   },
   "outputs": [
    {
     "data": {
      "text/html": [
       "<script>\n",
       "code_show=true; \n",
       "function code_toggle() {\n",
       " if (code_show){\n",
       " $('div.input').hide();\n",
       " } else {\n",
       " $('div.input').show();\n",
       " }\n",
       " code_show = !code_show\n",
       "} \n",
       "$( document ).ready(code_toggle);\n",
       "</script>\n",
       "<form action=\"javascript:code_toggle()\"><input type=\"submit\" value=\"Click here to toggle on/off the raw code.\"></form>"
      ],
      "text/plain": [
       "<IPython.core.display.HTML object>"
      ]
     },
     "execution_count": 14,
     "metadata": {},
     "output_type": "execute_result"
    }
   ],
   "source": [
    "from IPython.display import HTML\n",
    "\n",
    "HTML('''<script>\n",
    "code_show=true; \n",
    "function code_toggle() {\n",
    " if (code_show){\n",
    " $('div.input').hide();\n",
    " } else {\n",
    " $('div.input').show();\n",
    " }\n",
    " code_show = !code_show\n",
    "} \n",
    "$( document ).ready(code_toggle);\n",
    "</script>\n",
    "<form action=\"javascript:code_toggle()\"><input type=\"submit\" value=\"Click here to toggle on/off the raw code.\"></form>''')"
   ]
  },
  {
   "cell_type": "markdown",
   "metadata": {
    "extensions": {
     "jupyter_dashboards": {
      "version": 1,
      "views": {
       "grid_default": {
        "col": 0,
        "height": 4,
        "hidden": false,
        "row": 8,
        "width": 4
       },
       "report_default": {}
      }
     }
    }
   },
   "source": [
    "Access the Data Collection Web Map here: www.DataCollectionWebMap.arcgis.com\n",
    "Access the Data Request Web Map here: www.DataRequestWebMap.arcgis.com "
   ]
  },
  {
   "cell_type": "code",
   "execution_count": 15,
   "metadata": {
    "extensions": {
     "jupyter_dashboards": {
      "version": 1,
      "views": {
       "grid_default": {
        "col": 0,
        "height": 6,
        "hidden": false,
        "row": 12,
        "width": 4
       },
       "report_default": {}
      }
     }
    }
   },
   "outputs": [
    {
     "data": {
      "text/plain": [
       "[<Item title:\"Data_Collection\" type:Web Map owner:spandey_Dewberry>,\n",
       " <Item title:\"Charrette Data Map\" type:Web Map owner:spandey_Dewberry>,\n",
       " <Item title:\"16\" Site Visit #1\" type:Web Map owner:tmoran_Dewberry>,\n",
       " <Item title:\"TDMS_Data_Collection\" type:Web Map owner:dewb_pdean>]"
      ]
     },
     "execution_count": 15,
     "metadata": {},
     "output_type": "execute_result"
    }
   ],
   "source": [
    "webmap_search = source.content.search(query = \"Data_Collection\", item_type = \"Web Map\")\n",
    "webmap_search"
   ]
  },
  {
   "cell_type": "code",
   "execution_count": 16,
   "metadata": {
    "extensions": {
     "jupyter_dashboards": {
      "version": 1,
      "views": {
       "grid_default": {
        "col": 0,
        "height": 7,
        "hidden": false,
        "row": 18,
        "width": 4
       },
       "report_default": {}
      }
     }
    }
   },
   "outputs": [
    {
     "data": {
      "text/html": [
       "<div class=\"item_container\" style=\"height: auto; overflow: hidden; border: 1px solid #cfcfcf; border-radius: 2px; background: #f6fafa; line-height: 1.21429em; padding: 10px;\">\n",
       "                    <div class=\"item_left\" style=\"width: 210px; float: left;\">\n",
       "                       <a href='https://Dewberry.maps.arcgis.com/home/item.html?id=c2d9ed4e7756445f8e9b402a218649c8' target='_blank'>\n",
       "                        <img src='data:image/png;base64,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' width='200' height='133' class=\"itemThumbnail\">\n",
       "                       </a>\n",
       "                    </div>\n",
       "\n",
       "                    <div class=\"item_right\"     style=\"float: none; width: auto; overflow: hidden;\">\n",
       "                        <a href='https://Dewberry.maps.arcgis.com/home/item.html?id=c2d9ed4e7756445f8e9b402a218649c8' target='_blank'><b>Data_Collection</b>\n",
       "                        </a>\n",
       "                        <br/><img src='https://Dewberry.maps.arcgis.com/home/js/jsapi/esri/css/images/item_type_icons/maps16.png' style=\"vertical-align:middle;\">Web Map by spandey_Dewberry\n",
       "                        <br/>Last Modified: April 30, 2018\n",
       "                        <br/>0 comments, 8 views\n",
       "                    </div>\n",
       "                </div>\n",
       "                "
      ],
      "text/plain": [
       "<Item title:\"Data_Collection\" type:Web Map owner:spandey_Dewberry>"
      ]
     },
     "execution_count": 16,
     "metadata": {},
     "output_type": "execute_result"
    }
   ],
   "source": [
    "webmap1 = webmap_search[0]\n",
    "webmap1"
   ]
  },
  {
   "cell_type": "code",
   "execution_count": 17,
   "metadata": {},
   "outputs": [],
   "source": [
    "from arcgis.mapping import WebMap"
   ]
  },
  {
   "cell_type": "code",
   "execution_count": 18,
   "metadata": {
    "extensions": {
     "jupyter_dashboards": {
      "version": 1,
      "views": {
       "grid_default": {
        "col": null,
        "height": 15,
        "hidden": false,
        "row": 0,
        "width": null
       },
       "report_default": {}
      }
     }
    }
   },
   "outputs": [
    {
     "data": {
      "application/vnd.jupyter.widget-view+json": {
       "model_id": "f6c577aaf90e4fed80ec1cae05fc0414",
       "version_major": 2,
       "version_minor": 0
      },
      "text/plain": [
       "MapView(basemaps=['dark-gray', 'dark-gray-vector', 'gray', 'gray-vector', 'hybrid', 'national-geographic', 'oc…"
      ]
     },
     "metadata": {},
     "output_type": "display_data"
    }
   ],
   "source": [
    "Data_Collection = WebMap(webmap1)\n",
    "Data_Collection"
   ]
  },
  {
   "cell_type": "code",
   "execution_count": null,
   "metadata": {
    "extensions": {
     "jupyter_dashboards": {
      "version": 1,
      "views": {
       "grid_default": {
        "hidden": true
       },
       "report_default": {}
      }
     }
    }
   },
   "outputs": [],
   "source": []
  }
 ],
 "metadata": {
  "extensions": {
   "jupyter_dashboards": {
    "activeView": "grid_default",
    "version": 1,
    "views": {
     "grid_default": {
      "cellMargin": 10,
      "defaultCellHeight": 20,
      "maxColumns": 12,
      "name": "grid",
      "type": "grid"
     },
     "report_default": {
      "name": "report",
      "type": "report"
     }
    }
   }
  },
  "kernelspec": {
   "display_name": "Python 3",
   "language": "python",
   "name": "python3"
  },
  "language_info": {
   "codemirror_mode": {
    "name": "ipython",
    "version": 3
   },
   "file_extension": ".py",
   "mimetype": "text/x-python",
   "name": "python",
   "nbconvert_exporter": "python",
   "pygments_lexer": "ipython3",
   "version": "3.6.4"
  }
 },
 "nbformat": 4,
 "nbformat_minor": 2
}
