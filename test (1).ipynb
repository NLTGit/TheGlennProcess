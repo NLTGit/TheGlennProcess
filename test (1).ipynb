{
 "cells": [
  {
   "cell_type": "code",
   "execution_count": 9,
   "metadata": {},
   "outputs": [],
   "source": [
    "from arcgis.gis import *"
   ]
  },
  {
   "cell_type": "code",
   "execution_count": null,
   "metadata": {},
   "outputs": [],
   "source": [
    "dev_gis = GIS(\"https://www.arcgis.com\")"
   ]
  },
  {
   "cell_type": "code",
   "execution_count": 11,
   "metadata": {},
   "outputs": [
    {
     "data": {
      "text/plain": [
       "[<Item title:\"Tree Canopy by City in Minnesota\" type:Web Map owner:vikalpa>,\n",
       " <Item title:\"LA Parks and Trails Map (unstyled)-Copy\" type:Web Map owner:hosweh>,\n",
       " <Item title:\"San Diego Places To Go-复制\" type:Web Map owner:win_001>,\n",
       " <Item title:\"Location Map Telematica\" type:Web Map owner:roberto.arbanil>,\n",
       " <Item title:\"San Diego Places To Go-Copy\" type:Web Map owner:hayam_osama>,\n",
       " <Item title:\"LA Parks and Trails Map (unstyled)- JMJ\" type:Web Map owner:jjone267_GISandData>,\n",
       " <Item title:\"ADFCA Short List Map Story\" type:Web Map owner:developer5>,\n",
       " <Item title:\"Vaals6\" type:Web Map owner:haicao1975>,\n",
       " <Item title:\"LA Parks and Trails Map (styled with popups)c\" type:Web Map owner:cheangerlove>,\n",
       " <Item title:\"indonesia\" type:Web Map owner:ogumelar>]"
      ]
     },
     "execution_count": 11,
     "metadata": {},
     "output_type": "execute_result"
    }
   ],
   "source": [
    "webmap_search = dev_gis.content.search(query = \"LA Parks and Trails *\", item_type = \"Web Map\")\n",
    "webmap_search"
   ]
  },
  {
   "cell_type": "code",
   "execution_count": 12,
   "metadata": {},
   "outputs": [
    {
     "data": {
      "text/html": [
       "<div class=\"item_container\" style=\"height: auto; overflow: hidden; border: 1px solid #cfcfcf; border-radius: 2px; background: #f6fafa; line-height: 1.21429em; padding: 10px;\">\n",
       "                    <div class=\"item_left\" style=\"width: 210px; float: left;\">\n",
       "                       <a href='https://www.arcgis.com/home/item.html?id=b35bbd08b27944cc8dbb2129cea7271b' target='_blank'>\n",
       "                        <img src='https://www.arcgis.com/sharing/rest//content/items/b35bbd08b27944cc8dbb2129cea7271b/info/thumbnail/thumbnail.png' class=\"itemThumbnail\">\n",
       "                       </a>\n",
       "                    </div>\n",
       "\n",
       "                    <div class=\"item_right\"     style=\"float: none; width: auto; overflow: hidden;\">\n",
       "                        <a href='https://www.arcgis.com/home/item.html?id=b35bbd08b27944cc8dbb2129cea7271b' target='_blank'><b>San Diego Places To Go-复制</b>\n",
       "                        </a>\n",
       "                        <br/>Some recommended places to go in San Diego, California. This map includes museums, beaches, parks, neighborhoods, restaurants, cafes, interesting buildings, and the complete trolley system! You can also view the map as a presentation to get the tour!<img src='https://www.arcgis.com/home/js/jsapi/esri/css/images/item_type_icons/maps16.png' style=\"vertical-align:middle;\">Web Map by win_001\n",
       "                        <br/>Last Modified: October 23, 2012\n",
       "                        <br/>0 comments, 582 views\n",
       "                    </div>\n",
       "                </div>\n",
       "                "
      ],
      "text/plain": [
       "<Item title:\"San Diego Places To Go-复制\" type:Web Map owner:win_001>"
      ]
     },
     "execution_count": 12,
     "metadata": {},
     "output_type": "execute_result"
    }
   ],
   "source": [
    "webmap = webmap_search[2]\n",
    "webmap"
   ]
  },
  {
   "cell_type": "code",
   "execution_count": 13,
   "metadata": {},
   "outputs": [
    {
     "data": {
      "application/vnd.jupyter.widget-view+json": {
       "model_id": "fd7e569169d64d73bdd6b2dffe0857ba",
       "version_major": 2,
       "version_minor": 0
      },
      "text/html": [
       "<p>Failed to display Jupyter Widget of type <code>MapView</code>.</p>\n",
       "<p>\n",
       "  If you're reading this message in the Jupyter Notebook or JupyterLab Notebook, it may mean\n",
       "  that the widgets JavaScript is still loading. If this message persists, it\n",
       "  likely means that the widgets JavaScript library is either not installed or\n",
       "  not enabled. See the <a href=\"https://ipywidgets.readthedocs.io/en/stable/user_install.html\">Jupyter\n",
       "  Widgets Documentation</a> for setup instructions.\n",
       "</p>\n",
       "<p>\n",
       "  If you're reading this message in another frontend (for example, a static\n",
       "  rendering on GitHub or <a href=\"https://nbviewer.jupyter.org/\">NBViewer</a>),\n",
       "  it may mean that your frontend doesn't currently support widgets.\n",
       "</p>\n"
      ],
      "text/plain": [
       "MapView(basemaps=['dark-gray', 'dark-gray-vector', 'gray', 'gray-vector', 'hybrid', 'national-geographic', 'oceans', 'osm', 'satellite', 'streets', 'streets-navigation-vector', 'streets-night-vector', 'streets-relief-vector', 'streets-vector', 'terrain', 'topo', 'topo-vector'], center=[0, 0], id='b35bbd08b27944cc8dbb2129cea7271b')"
      ]
     },
     "metadata": {},
     "output_type": "display_data"
    }
   ],
   "source": [
    "from arcgis.mapping import WebMap\n",
    "la_parks_trails = WebMap(webmap)\n",
    "la_parks_trails"
   ]
  }
 ],
 "metadata": {
  "kernelspec": {
   "display_name": "Python 3",
   "language": "python",
   "name": "python3"
  },
  "language_info": {
   "codemirror_mode": {
    "name": "ipython",
    "version": 3
   },
   "file_extension": ".py",
   "mimetype": "text/x-python",
   "name": "python",
   "nbconvert_exporter": "python",
   "pygments_lexer": "ipython3",
   "version": "3.6.4"
  }
 },
 "nbformat": 4,
 "nbformat_minor": 2
}
